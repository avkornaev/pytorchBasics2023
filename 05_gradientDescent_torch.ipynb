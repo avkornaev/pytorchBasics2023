{
  "nbformat": 4,
  "nbformat_minor": 0,
  "metadata": {
    "colab": {
      "provenance": [],
      "authorship_tag": "ABX9TyMPcDFiciwpTxvVMG1YftAx",
      "include_colab_link": true
    },
    "kernelspec": {
      "name": "python3",
      "display_name": "Python 3"
    },
    "language_info": {
      "name": "python"
    }
  },
  "cells": [
    {
      "cell_type": "markdown",
      "metadata": {
        "id": "view-in-github",
        "colab_type": "text"
      },
      "source": [
        "<a href=\"https://colab.research.google.com/github/avkornaev/pytorchBasics2023/blob/main/05_gradientDescent_torch.ipynb\" target=\"_parent\"><img src=\"https://colab.research.google.com/assets/colab-badge.svg\" alt=\"Open In Colab\"/></a>"
      ]
    },
    {
      "cell_type": "markdown",
      "source": [
        "# Import libraries"
      ],
      "metadata": {
        "id": "7Q2fVTZhHsk_"
      }
    },
    {
      "cell_type": "code",
      "execution_count": 8,
      "metadata": {
        "id": "4WQx-ki5FuNB"
      },
      "outputs": [],
      "source": [
        "import torch\n",
        "import torch.nn as nn"
      ]
    },
    {
      "cell_type": "markdown",
      "source": [
        "# Initialization"
      ],
      "metadata": {
        "id": "ivJSu8ybIoy_"
      }
    },
    {
      "cell_type": "code",
      "source": [
        "# y = 2*x\n",
        "x = torch.tensor([1, 2, 3, 4], dtype=torch.float32)\n",
        "y = torch.tensor([2, 4, 6, 8], dtype=torch.float32)\n",
        "\n",
        "w = torch.tensor(0.0, dtype=torch.float32, requires_grad=True)\n",
        "\n",
        "lr = 0.01 #learning rate\n",
        "n = 1000 # number of iterations"
      ],
      "metadata": {
        "id": "fSyL0YiAIdy5"
      },
      "execution_count": 9,
      "outputs": []
    },
    {
      "cell_type": "markdown",
      "source": [
        "# Model prediction"
      ],
      "metadata": {
        "id": "0dJFN3HJKQd2"
      }
    },
    {
      "cell_type": "code",
      "source": [
        "def forward(w,x):\n",
        "  return w*x"
      ],
      "metadata": {
        "id": "9gtU3D7XKSx8"
      },
      "execution_count": 10,
      "outputs": []
    },
    {
      "cell_type": "markdown",
      "source": [
        "# Loss\n",
        "The loss is mean square error (MSE)"
      ],
      "metadata": {
        "id": "-0OyPB_NKz-3"
      }
    },
    {
      "cell_type": "code",
      "source": [
        "loss = nn.MSELoss()"
      ],
      "metadata": {
        "id": "RBxkOaxvK_AA"
      },
      "execution_count": 11,
      "outputs": []
    },
    {
      "cell_type": "markdown",
      "source": [
        "# Training"
      ],
      "metadata": {
        "id": "0pLJwRRvNj2_"
      }
    },
    {
      "cell_type": "code",
      "source": [
        "optimizer = torch.optim.SGD([w], lr=lr)\n",
        "\n",
        "for epoch in range(n):\n",
        "  #prediction\n",
        "  h = forward(w,x)\n",
        "  #loss\n",
        "  L = loss(y,h)\n",
        "  #gradient\n",
        "  L.backward()\n",
        "  #update\n",
        "  optimizer.step()\n",
        "  #zero gradients\n",
        "  optimizer.zero_grad()\n",
        "\n",
        "  if epoch % 100 == 0:\n",
        "    print(f'epoch {epoch + 1}: w = {w:.3f}, loss = {L:.5f}')\n",
        "\n",
        "print(f'prediction after training: h(5) = {forward(w,5):.3f}')\n"
      ],
      "metadata": {
        "colab": {
          "base_uri": "https://localhost:8080/"
        },
        "id": "WSx3QKjRNlXL",
        "outputId": "449591e0-9891-4e3b-d2fd-6c16c2a392ce"
      },
      "execution_count": 12,
      "outputs": [
        {
          "output_type": "stream",
          "name": "stdout",
          "text": [
            "epoch 1: w = 0.300, loss = 30.00000\n",
            "epoch 101: w = 2.000, loss = 0.00000\n",
            "epoch 201: w = 2.000, loss = 0.00000\n",
            "epoch 301: w = 2.000, loss = 0.00000\n",
            "epoch 401: w = 2.000, loss = 0.00000\n",
            "epoch 501: w = 2.000, loss = 0.00000\n",
            "epoch 601: w = 2.000, loss = 0.00000\n",
            "epoch 701: w = 2.000, loss = 0.00000\n",
            "epoch 801: w = 2.000, loss = 0.00000\n",
            "epoch 901: w = 2.000, loss = 0.00000\n",
            "prediction after training: h(5) = 10.000\n"
          ]
        }
      ]
    },
    {
      "cell_type": "code",
      "source": [],
      "metadata": {
        "id": "JRl8hsRGS_F1"
      },
      "execution_count": 12,
      "outputs": []
    }
  ]
}