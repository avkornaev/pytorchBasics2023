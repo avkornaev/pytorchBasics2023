{
  "nbformat": 4,
  "nbformat_minor": 0,
  "metadata": {
    "colab": {
      "provenance": [],
      "authorship_tag": "ABX9TyOEMYhozjI7z/hrHMswQhFg",
      "include_colab_link": true
    },
    "kernelspec": {
      "name": "python3",
      "display_name": "Python 3"
    },
    "language_info": {
      "name": "python"
    }
  },
  "cells": [
    {
      "cell_type": "markdown",
      "metadata": {
        "id": "view-in-github",
        "colab_type": "text"
      },
      "source": [
        "<a href=\"https://colab.research.google.com/github/avkornaev/pytorchBasics2023/blob/main/05_gradientDescent_torch.ipynb\" target=\"_parent\"><img src=\"https://colab.research.google.com/assets/colab-badge.svg\" alt=\"Open In Colab\"/></a>"
      ]
    },
    {
      "cell_type": "markdown",
      "source": [
        "# Import libraries"
      ],
      "metadata": {
        "id": "7Q2fVTZhHsk_"
      }
    },
    {
      "cell_type": "code",
      "execution_count": 42,
      "metadata": {
        "id": "4WQx-ki5FuNB"
      },
      "outputs": [],
      "source": [
        "import torch\n",
        "import torch.nn as nn"
      ]
    },
    {
      "cell_type": "markdown",
      "source": [
        "# Initialization"
      ],
      "metadata": {
        "id": "ivJSu8ybIoy_"
      }
    },
    {
      "cell_type": "code",
      "source": [
        "# y = 2*x\n",
        "x = torch.tensor([[1], [2], [3], [4]], dtype=torch.float32)\n",
        "y = torch.tensor([[2], [4], [6], [8]], dtype=torch.float32)\n",
        "n_samples, n_features = x.shape\n",
        "print(n_samples, n_features)\n",
        "\n",
        "x_test = torch.tensor([5], dtype=torch.float32)\n",
        "\n",
        "lr = 0.01 #learning rate\n",
        "n = 1000 # number of iterations"
      ],
      "metadata": {
        "id": "fSyL0YiAIdy5",
        "colab": {
          "base_uri": "https://localhost:8080/"
        },
        "outputId": "f64f4e74-7aab-49de-8fb6-11dd0782358b"
      },
      "execution_count": 43,
      "outputs": [
        {
          "output_type": "stream",
          "name": "stdout",
          "text": [
            "4 1\n"
          ]
        }
      ]
    },
    {
      "cell_type": "markdown",
      "source": [
        "# Model prediction"
      ],
      "metadata": {
        "id": "0dJFN3HJKQd2"
      }
    },
    {
      "cell_type": "code",
      "source": [
        "input_size = n_features\n",
        "output_size = 1\n",
        "\n",
        "#model = nn.Linear(input_size, output_size)\n",
        "\n",
        "class LinearRegression(nn.Module):\n",
        "\n",
        "  def __init__(self, input_dim, output_dim):\n",
        "    super(LinearRegression, self).__init__()\n",
        "    #define layers\n",
        "    self.lin = nn.Linear(input_dim, output_dim)\n",
        "\n",
        "  def forward(self, x):\n",
        "    return self.lin(x)\n",
        "\n",
        "model = LinearRegression(input_size, output_size)"
      ],
      "metadata": {
        "id": "9gtU3D7XKSx8"
      },
      "execution_count": 44,
      "outputs": []
    },
    {
      "cell_type": "markdown",
      "source": [
        "# Loss\n",
        "The loss is mean square error (MSE)"
      ],
      "metadata": {
        "id": "-0OyPB_NKz-3"
      }
    },
    {
      "cell_type": "code",
      "source": [
        "loss = nn.MSELoss()"
      ],
      "metadata": {
        "id": "RBxkOaxvK_AA"
      },
      "execution_count": 45,
      "outputs": []
    },
    {
      "cell_type": "markdown",
      "source": [
        "# Training"
      ],
      "metadata": {
        "id": "0pLJwRRvNj2_"
      }
    },
    {
      "cell_type": "code",
      "source": [
        "optimizer = torch.optim.SGD(model.parameters(), lr=lr)\n",
        "\n",
        "for epoch in range(n):\n",
        "  #prediction\n",
        "  h = model(x)\n",
        "  #loss\n",
        "  L = loss(y,h)\n",
        "  #gradient\n",
        "  L.backward()\n",
        "  #update\n",
        "  optimizer.step()\n",
        "  #zero gradients\n",
        "  optimizer.zero_grad()\n",
        "\n",
        "  if epoch % 100 == 0:\n",
        "    [w,b] = model.parameters()\n",
        "    print(f'epoch {epoch + 1}: w = {w[0][0]:.3f}, loss = {L:.5f}')\n",
        "\n",
        "print(f'prediction after training: h(5) = {model(x_test).item():.3f}')\n"
      ],
      "metadata": {
        "colab": {
          "base_uri": "https://localhost:8080/"
        },
        "id": "WSx3QKjRNlXL",
        "outputId": "981ab30b-f5fe-4f0e-9381-6fc27fd9ee0a"
      },
      "execution_count": 46,
      "outputs": [
        {
          "output_type": "stream",
          "name": "stdout",
          "text": [
            "epoch 1: w = -0.030, loss = 36.09697\n",
            "epoch 101: w = 1.707, loss = 0.12458\n",
            "epoch 201: w = 1.783, loss = 0.06839\n",
            "epoch 301: w = 1.839, loss = 0.03755\n",
            "epoch 401: w = 1.881, loss = 0.02061\n",
            "epoch 501: w = 1.912, loss = 0.01132\n",
            "epoch 601: w = 1.935, loss = 0.00621\n",
            "epoch 701: w = 1.952, loss = 0.00341\n",
            "epoch 801: w = 1.964, loss = 0.00187\n",
            "epoch 901: w = 1.973, loss = 0.00103\n",
            "prediction after training: h(5) = 9.959\n"
          ]
        }
      ]
    },
    {
      "cell_type": "code",
      "source": [],
      "metadata": {
        "id": "JRl8hsRGS_F1"
      },
      "execution_count": 46,
      "outputs": []
    }
  ]
}