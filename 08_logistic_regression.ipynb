{
  "nbformat": 4,
  "nbformat_minor": 0,
  "metadata": {
    "colab": {
      "provenance": [],
      "authorship_tag": "ABX9TyOwGcAIsoFiixO6Dde0zJ1H",
      "include_colab_link": true
    },
    "kernelspec": {
      "name": "python3",
      "display_name": "Python 3"
    },
    "language_info": {
      "name": "python"
    }
  },
  "cells": [
    {
      "cell_type": "markdown",
      "metadata": {
        "id": "view-in-github",
        "colab_type": "text"
      },
      "source": [
        "<a href=\"https://colab.research.google.com/github/avkornaev/pytorchBasics2023/blob/main/08_logistic_regression.ipynb\" target=\"_parent\"><img src=\"https://colab.research.google.com/assets/colab-badge.svg\" alt=\"Open In Colab\"/></a>"
      ]
    },
    {
      "cell_type": "markdown",
      "source": [
        "# Import libraries"
      ],
      "metadata": {
        "id": "pE6n0WQKcg92"
      }
    },
    {
      "cell_type": "code",
      "execution_count": 1,
      "metadata": {
        "id": "iVwYP_ujcTjO"
      },
      "outputs": [],
      "source": [
        "import numpy as np\n",
        "import torch\n",
        "import torch.nn as nn\n",
        "from sklearn import datasets\n",
        "from sklearn.preprocessing import StandardScaler\n",
        "from sklearn.model_selection import train_test_split\n",
        "import matplotlib.pyplot as plt"
      ]
    },
    {
      "cell_type": "markdown",
      "source": [
        "# Initialization"
      ],
      "metadata": {
        "id": "PBEWxzlxcrGc"
      }
    },
    {
      "cell_type": "code",
      "source": [
        "bc = datasets.load_breast_cancer()\n",
        "X, Y = bc.data, bc.target\n",
        "n_samples, n_features = X.shape\n",
        "#Split into train and test\n",
        "X_train, X_test, Y_train, Y_test = train_test_split(X,Y, test_size=20, random_state=1234)\n",
        "\n"
      ],
      "metadata": {
        "id": "kCdKRYGGsja9"
      },
      "execution_count": 2,
      "outputs": []
    },
    {
      "cell_type": "code",
      "source": [
        "#Scaling\n",
        "sc = StandardScaler()\n",
        "X_train = sc.fit_transform(X_train)\n",
        "X_test = sc.fit_transform(X_test)\n",
        "\n",
        "X_train = torch.from_numpy(X_train.astype(np.float32))\n",
        "X_test = torch.from_numpy(X_test.astype(np.float32))\n",
        "Y_train = torch.from_numpy(Y_train.astype(np.float32))\n",
        "Y_test = torch.from_numpy(Y_test.astype(np.float32))\n",
        "\n",
        "Y_train = Y_train.view(Y_train.shape[0], 1)\n",
        "Y_test = Y_test.view(Y_test.shape[0], 1)"
      ],
      "metadata": {
        "id": "IvmTfadZvNnw"
      },
      "execution_count": 3,
      "outputs": []
    },
    {
      "cell_type": "code",
      "source": [
        "lr = 0.01 #learning rate\n",
        "n = 1000 # number of iterations\n",
        "\n",
        "input_size = n_features\n",
        "output_size = 1"
      ],
      "metadata": {
        "id": "1BZ8h6gqctZ-"
      },
      "execution_count": 4,
      "outputs": []
    },
    {
      "cell_type": "markdown",
      "source": [
        "# Model"
      ],
      "metadata": {
        "id": "kjXiWlZPeKN5"
      }
    },
    {
      "cell_type": "code",
      "source": [
        "class LogisticRegression(nn.Module):\n",
        "\n",
        "  def __init__(self, input_dim, output_dim):\n",
        "    super(LogisticRegression, self).__init__()\n",
        "    #define layers\n",
        "    self.lin = nn.Linear(input_dim, output_dim)\n",
        "\n",
        "  def forward(self,x):\n",
        "    return torch.sigmoid(self.lin(x))"
      ],
      "metadata": {
        "id": "DfZzy-5dvseA"
      },
      "execution_count": 5,
      "outputs": []
    },
    {
      "cell_type": "code",
      "source": [
        "model = LogisticRegression(input_size, output_size)"
      ],
      "metadata": {
        "id": "inQ4au7fxHPt"
      },
      "execution_count": 6,
      "outputs": []
    },
    {
      "cell_type": "markdown",
      "source": [
        "# Loss\n",
        "Mean square error (MSE)"
      ],
      "metadata": {
        "id": "8_FGI45GewYT"
      }
    },
    {
      "cell_type": "code",
      "source": [
        "loss = nn.BCELoss()"
      ],
      "metadata": {
        "id": "FyKvF3ImetNL"
      },
      "execution_count": 7,
      "outputs": []
    },
    {
      "cell_type": "markdown",
      "source": [
        "# Optimizer"
      ],
      "metadata": {
        "id": "s9ddWlmufqxe"
      }
    },
    {
      "cell_type": "code",
      "source": [
        "optimizer = torch.optim.SGD(model.parameters(), lr=lr)"
      ],
      "metadata": {
        "id": "COSN0oqyfqX-"
      },
      "execution_count": 8,
      "outputs": []
    },
    {
      "cell_type": "markdown",
      "source": [
        "# Training"
      ],
      "metadata": {
        "id": "NbIOir6Jgqr1"
      }
    },
    {
      "cell_type": "code",
      "source": [
        "for epoch in range(n):\n",
        "  #prediction\n",
        "  y_h = model(X_train)\n",
        "  #loss\n",
        "  L = loss(y_h,Y_train)\n",
        "  #gradient\n",
        "  L.backward()\n",
        "  #update\n",
        "  optimizer.step()\n",
        "  #zero gradients\n",
        "  optimizer.zero_grad()\n",
        "\n",
        "  if epoch % 100 == 0:\n",
        "    print(f'epoch {epoch + 1}, loss = {L:.5f}')\n"
      ],
      "metadata": {
        "colab": {
          "base_uri": "https://localhost:8080/"
        },
        "id": "ONp3J6NxgXCL",
        "outputId": "086e3ca1-e529-42b7-cf77-54a98aea3350"
      },
      "execution_count": 9,
      "outputs": [
        {
          "output_type": "stream",
          "name": "stdout",
          "text": [
            "epoch 1, loss = 0.95387\n",
            "epoch 101, loss = 0.26183\n",
            "epoch 201, loss = 0.18900\n",
            "epoch 301, loss = 0.15837\n",
            "epoch 401, loss = 0.14095\n",
            "epoch 501, loss = 0.12951\n",
            "epoch 601, loss = 0.12131\n",
            "epoch 701, loss = 0.11509\n",
            "epoch 801, loss = 0.11016\n",
            "epoch 901, loss = 0.10614\n"
          ]
        }
      ]
    },
    {
      "cell_type": "markdown",
      "source": [
        "#Test"
      ],
      "metadata": {
        "id": "gzW2S0Tc2Yuz"
      }
    },
    {
      "cell_type": "code",
      "source": [
        "with torch.no_grad():\n",
        "  preds = model(X_test)\n",
        "  preds = preds.round()\n",
        "  acc = (preds == Y_test).sum() / Y_test.size(0)\n",
        "  print(acc)"
      ],
      "metadata": {
        "colab": {
          "base_uri": "https://localhost:8080/"
        },
        "id": "wvSAony62ajm",
        "outputId": "80703d79-2e7f-411f-a9f6-89aac2401952"
      },
      "execution_count": 10,
      "outputs": [
        {
          "output_type": "stream",
          "name": "stdout",
          "text": [
            "tensor(1.)\n"
          ]
        }
      ]
    },
    {
      "cell_type": "markdown",
      "source": [
        "# Visualization"
      ],
      "metadata": {
        "id": "BDfbgYlq2a2w"
      }
    },
    {
      "cell_type": "code",
      "source": [
        "plt.plot(X_test[:,0],Y_test,'ro')\n",
        "plt.plot(X_test[:,0],preds,'bx')\n",
        "plt.title('Logistic regression')\n",
        "plt.xlabel('x')\n",
        "plt.ylabel('y')\n",
        "plt.grid('on')"
      ],
      "metadata": {
        "colab": {
          "base_uri": "https://localhost:8080/",
          "height": 472
        },
        "id": "xealgCPhjBUn",
        "outputId": "a0ba4752-bd37-489a-b6e4-dc11458f8308"
      },
      "execution_count": 11,
      "outputs": [
        {
          "output_type": "display_data",
          "data": {
            "text/plain": [
              "<Figure size 640x480 with 1 Axes>"
            ],
            "image/png": "[encoded data removed]"
          },
          "metadata": {}
        }
      ]
    },
    {
      "cell_type": "code",
      "source": [],
      "metadata": {
        "id": "3F9yT0RO2mf4"
      },
      "execution_count": 11,
      "outputs": []
    }
  ]
}