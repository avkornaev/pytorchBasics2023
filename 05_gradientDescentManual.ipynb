{
  "nbformat": 4,
  "nbformat_minor": 0,
  "metadata": {
    "colab": {
      "provenance": [],
      "authorship_tag": "ABX9TyNc9qOmIjoK1uPb1SFey0G+",
      "include_colab_link": true
    },
    "kernelspec": {
      "name": "python3",
      "display_name": "Python 3"
    },
    "language_info": {
      "name": "python"
    }
  },
  "cells": [
    {
      "cell_type": "markdown",
      "metadata": {
        "id": "view-in-github",
        "colab_type": "text"
      },
      "source": [
        "<a href=\"https://colab.research.google.com/github/avkornaev/pytorchBasics2023/blob/main/05_gradientDescentManual.ipynb\" target=\"_parent\"><img src=\"https://colab.research.google.com/assets/colab-badge.svg\" alt=\"Open In Colab\"/></a>"
      ]
    },
    {
      "cell_type": "markdown",
      "source": [
        "# Import libraries"
      ],
      "metadata": {
        "id": "7Q2fVTZhHsk_"
      }
    },
    {
      "cell_type": "code",
      "execution_count": 17,
      "metadata": {
        "id": "4WQx-ki5FuNB"
      },
      "outputs": [],
      "source": [
        "import numpy as np"
      ]
    },
    {
      "cell_type": "markdown",
      "source": [
        "# Initialization"
      ],
      "metadata": {
        "id": "ivJSu8ybIoy_"
      }
    },
    {
      "cell_type": "code",
      "source": [
        "x = np.array([1, 2, 3, 4], dtype=np.float32)\n",
        "y = np.array([2, 4, 6, 8], dtype=np.float32)\n",
        "\n",
        "w = 0.0\n",
        "\n",
        "lr = 0.01 #learning rate\n",
        "n = 10 # number of iterations"
      ],
      "metadata": {
        "id": "fSyL0YiAIdy5"
      },
      "execution_count": 18,
      "outputs": []
    },
    {
      "cell_type": "markdown",
      "source": [
        "# Model prediction"
      ],
      "metadata": {
        "id": "0dJFN3HJKQd2"
      }
    },
    {
      "cell_type": "code",
      "source": [
        "def forward(w,x):\n",
        "  return w*x"
      ],
      "metadata": {
        "id": "9gtU3D7XKSx8"
      },
      "execution_count": 19,
      "outputs": []
    },
    {
      "cell_type": "markdown",
      "source": [
        "# Loss\n",
        "The loss is mean square error (MSE)"
      ],
      "metadata": {
        "id": "-0OyPB_NKz-3"
      }
    },
    {
      "cell_type": "code",
      "source": [
        "def loss(y,h):\n",
        "  return ((y - h)**2).mean()"
      ],
      "metadata": {
        "id": "RBxkOaxvK_AA"
      },
      "execution_count": 20,
      "outputs": []
    },
    {
      "cell_type": "markdown",
      "source": [
        "# Gradient of the loss"
      ],
      "metadata": {
        "id": "Z26qtti6LWmX"
      }
    },
    {
      "cell_type": "code",
      "source": [
        "def gradient(x,h,y):\n",
        "  return np.dot(-2*x, (y - h)).mean()"
      ],
      "metadata": {
        "id": "Ng7lZ3Q1LSJU"
      },
      "execution_count": 21,
      "outputs": []
    },
    {
      "cell_type": "markdown",
      "source": [
        "# Training"
      ],
      "metadata": {
        "id": "0pLJwRRvNj2_"
      }
    },
    {
      "cell_type": "code",
      "source": [
        "for epoch in range(n):\n",
        "  #prediction\n",
        "  h = forward(w,x)\n",
        "  #loss\n",
        "  L = loss(y,h)\n",
        "  #gradient\n",
        "  dLdw = gradient(x,h,y)\n",
        "  #update\n",
        "  w -= lr*dLdw\n",
        "\n",
        "  if epoch % 1 == 0:\n",
        "    print(f'epoch {epoch + 1}: w = {w:.3f}, loss = {L:.5f}')\n",
        "\n",
        "print(f'prediction after training: h(5) = {forward(w,5):.3f}')\n"
      ],
      "metadata": {
        "colab": {
          "base_uri": "https://localhost:8080/"
        },
        "id": "WSx3QKjRNlXL",
        "outputId": "64610550-1607-431f-c347-a809a2df508c"
      },
      "execution_count": 22,
      "outputs": [
        {
          "output_type": "stream",
          "name": "stdout",
          "text": [
            "epoch 1: w = 1.200, loss = 30.00000\n",
            "epoch 2: w = 1.680, loss = 4.80000\n",
            "epoch 3: w = 1.872, loss = 0.76800\n",
            "epoch 4: w = 1.949, loss = 0.12288\n",
            "epoch 5: w = 1.980, loss = 0.01966\n",
            "epoch 6: w = 1.992, loss = 0.00315\n",
            "epoch 7: w = 1.997, loss = 0.00050\n",
            "epoch 8: w = 1.999, loss = 0.00008\n",
            "epoch 9: w = 1.999, loss = 0.00001\n",
            "epoch 10: w = 2.000, loss = 0.00000\n",
            "prediction after training: h(5) = 9.999\n"
          ]
        }
      ]
    },
    {
      "cell_type": "code",
      "source": [],
      "metadata": {
        "id": "JRl8hsRGS_F1"
      },
      "execution_count": 22,
      "outputs": []
    }
  ]
}